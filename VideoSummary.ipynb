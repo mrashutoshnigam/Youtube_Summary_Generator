{
 "cells": [
  {
   "cell_type": "markdown",
   "id": "30b1235c-2f3e-4628-9c90-30385f741550",
   "metadata": {},
   "source": [
    "## This demo app shows:\n",
    "* How to use LangChain's YoutubeLoader to retrieve the caption in a YouTube video\n",
    "* How to ask Llama to summarize the content (per the Llama's input size limit) of the video in a naive way using LangChain's stuff method\n",
    "* How to bypass the limit of Llama's max input token size by using a more sophisticated way using LangChain's map_reduce and refine methods - see [here](https://python.langchain.com/docs/use_cases/summarization) for more info"
   ]
  },
  {
   "cell_type": "markdown",
   "id": "c866f6be",
   "metadata": {},
   "source": [
    "We start by installing the necessary packages:\n",
    "- [youtube-transcript-api](https://pypi.org/project/youtube-transcript-api/) API to get transcript/subtitles of a YouTube video\n",
    "- [langchain](https://python.langchain.com/docs/get_started/introduction) provides necessary RAG tools for this demo\n",
    "- [tiktoken](https://github.com/openai/tiktoken) BytePair Encoding tokenizer\n",
    "- [pytube](https://pytube.io/en/latest/) Utility for downloading YouTube videos\n",
    "\n",
    "**Note** This example uses Replicate to host the Llama model. If you have not set up/or used Replicate before, we suggest you take a look at the [HelloLlamaCloud](HelloLlamaCloud.ipynb) example for information on how to set up Replicate before continuing with this example.\n",
    "If you do not want to use Replicate, you will need to make some changes to this notebook as you go along."
   ]
  },
  {
   "cell_type": "code",
   "execution_count": 2,
   "id": "02482167",
   "metadata": {},
   "outputs": [
    {
     "name": "stdout",
     "output_type": "stream",
     "text": [
      "Requirement already satisfied: langchain in ./venv/lib/python3.11/site-packages (0.0.345)\n",
      "Requirement already satisfied: youtube-transcript-api in ./venv/lib/python3.11/site-packages (0.6.1)\n",
      "Requirement already satisfied: tiktoken in ./venv/lib/python3.11/site-packages (0.5.2)\n",
      "Requirement already satisfied: pytube in ./venv/lib/python3.11/site-packages (15.0.0)\n",
      "Requirement already satisfied: PyYAML>=5.3 in ./venv/lib/python3.11/site-packages (from langchain) (6.0.1)\n",
      "Requirement already satisfied: SQLAlchemy<3,>=1.4 in ./venv/lib/python3.11/site-packages (from langchain) (2.0.23)\n",
      "Requirement already satisfied: aiohttp<4.0.0,>=3.8.3 in ./venv/lib/python3.11/site-packages (from langchain) (3.9.1)\n",
      "Requirement already satisfied: anyio<4.0 in ./venv/lib/python3.11/site-packages (from langchain) (3.7.1)\n",
      "Requirement already satisfied: dataclasses-json<0.7,>=0.5.7 in ./venv/lib/python3.11/site-packages (from langchain) (0.6.3)\n",
      "Requirement already satisfied: jsonpatch<2.0,>=1.33 in ./venv/lib/python3.11/site-packages (from langchain) (1.33)\n",
      "Requirement already satisfied: langchain-core<0.1,>=0.0.9 in ./venv/lib/python3.11/site-packages (from langchain) (0.0.9)\n",
      "Requirement already satisfied: langsmith<0.1.0,>=0.0.63 in ./venv/lib/python3.11/site-packages (from langchain) (0.0.69)\n",
      "Requirement already satisfied: numpy<2,>=1 in ./venv/lib/python3.11/site-packages (from langchain) (1.26.2)\n",
      "Requirement already satisfied: pydantic<3,>=1 in ./venv/lib/python3.11/site-packages (from langchain) (2.5.2)\n",
      "Requirement already satisfied: requests<3,>=2 in ./venv/lib/python3.11/site-packages (from langchain) (2.31.0)\n",
      "Requirement already satisfied: tenacity<9.0.0,>=8.1.0 in ./venv/lib/python3.11/site-packages (from langchain) (8.2.3)\n",
      "Requirement already satisfied: regex>=2022.1.18 in ./venv/lib/python3.11/site-packages (from tiktoken) (2023.10.3)\n",
      "Requirement already satisfied: attrs>=17.3.0 in ./venv/lib/python3.11/site-packages (from aiohttp<4.0.0,>=3.8.3->langchain) (23.1.0)\n",
      "Requirement already satisfied: multidict<7.0,>=4.5 in ./venv/lib/python3.11/site-packages (from aiohttp<4.0.0,>=3.8.3->langchain) (6.0.4)\n",
      "Requirement already satisfied: yarl<2.0,>=1.0 in ./venv/lib/python3.11/site-packages (from aiohttp<4.0.0,>=3.8.3->langchain) (1.9.3)\n",
      "Requirement already satisfied: frozenlist>=1.1.1 in ./venv/lib/python3.11/site-packages (from aiohttp<4.0.0,>=3.8.3->langchain) (1.4.0)\n",
      "Requirement already satisfied: aiosignal>=1.1.2 in ./venv/lib/python3.11/site-packages (from aiohttp<4.0.0,>=3.8.3->langchain) (1.3.1)\n",
      "Requirement already satisfied: idna>=2.8 in ./venv/lib/python3.11/site-packages (from anyio<4.0->langchain) (3.6)\n",
      "Requirement already satisfied: sniffio>=1.1 in ./venv/lib/python3.11/site-packages (from anyio<4.0->langchain) (1.3.0)\n",
      "Requirement already satisfied: marshmallow<4.0.0,>=3.18.0 in ./venv/lib/python3.11/site-packages (from dataclasses-json<0.7,>=0.5.7->langchain) (3.20.1)\n",
      "Requirement already satisfied: typing-inspect<1,>=0.4.0 in ./venv/lib/python3.11/site-packages (from dataclasses-json<0.7,>=0.5.7->langchain) (0.9.0)\n",
      "Requirement already satisfied: jsonpointer>=1.9 in ./venv/lib/python3.11/site-packages (from jsonpatch<2.0,>=1.33->langchain) (2.4)\n",
      "Requirement already satisfied: annotated-types>=0.4.0 in ./venv/lib/python3.11/site-packages (from pydantic<3,>=1->langchain) (0.6.0)\n",
      "Requirement already satisfied: pydantic-core==2.14.5 in ./venv/lib/python3.11/site-packages (from pydantic<3,>=1->langchain) (2.14.5)\n",
      "Requirement already satisfied: typing-extensions>=4.6.1 in ./venv/lib/python3.11/site-packages (from pydantic<3,>=1->langchain) (4.8.0)\n",
      "Requirement already satisfied: charset-normalizer<4,>=2 in ./venv/lib/python3.11/site-packages (from requests<3,>=2->langchain) (3.3.2)\n",
      "Requirement already satisfied: urllib3<3,>=1.21.1 in ./venv/lib/python3.11/site-packages (from requests<3,>=2->langchain) (2.1.0)\n",
      "Requirement already satisfied: certifi>=2017.4.17 in ./venv/lib/python3.11/site-packages (from requests<3,>=2->langchain) (2023.11.17)\n",
      "Requirement already satisfied: packaging>=17.0 in ./venv/lib/python3.11/site-packages (from marshmallow<4.0.0,>=3.18.0->dataclasses-json<0.7,>=0.5.7->langchain) (23.2)\n",
      "Requirement already satisfied: mypy-extensions>=0.3.0 in ./venv/lib/python3.11/site-packages (from typing-inspect<1,>=0.4.0->dataclasses-json<0.7,>=0.5.7->langchain) (1.0.0)\n",
      "\n",
      "\u001b[1m[\u001b[0m\u001b[34;49mnotice\u001b[0m\u001b[1;39;49m]\u001b[0m\u001b[39;49m A new release of pip is available: \u001b[0m\u001b[31;49m23.1.2\u001b[0m\u001b[39;49m -> \u001b[0m\u001b[32;49m23.3.1\u001b[0m\n",
      "\u001b[1m[\u001b[0m\u001b[34;49mnotice\u001b[0m\u001b[1;39;49m]\u001b[0m\u001b[39;49m To update, run: \u001b[0m\u001b[32;49mpip install --upgrade pip\u001b[0m\n"
     ]
    }
   ],
   "source": [
    "!pip install langchain youtube-transcript-api tiktoken pytube"
   ]
  },
  {
   "cell_type": "markdown",
   "id": "af3069b1",
   "metadata": {},
   "source": [
    "Let's load the YouTube video transcript using the YoutubeLoader."
   ]
  },
  {
   "cell_type": "code",
   "execution_count": 3,
   "id": "3e4b8598",
   "metadata": {},
   "outputs": [],
   "source": [
    "from langchain.document_loaders import YoutubeLoader\n",
    "\n",
    "loader = YoutubeLoader.from_youtube_url(\n",
    "    \"https://www.youtube.com/watch?v=PqHfuaF2EiY\", add_video_info=True\n",
    ")"
   ]
  },
  {
   "cell_type": "code",
   "execution_count": 4,
   "id": "dca32ebb",
   "metadata": {},
   "outputs": [],
   "source": [
    "# load the youtube video caption into Documents\n",
    "docs = loader.load()"
   ]
  },
  {
   "cell_type": "code",
   "execution_count": 5,
   "id": "afba128f-b7fd-4b2f-873f-9b5163455d54",
   "metadata": {},
   "outputs": [
    {
     "data": {
      "text/plain": [
       "(12911,\n",
       " 'In a previous video, I discussed the\\xa0\\ndifference between the Command Prompt\\xa0\\xa0 and PowerShell in Windows. And if\\xa0\\nyou\\'ve ever gone to use PowerShell,\\xa0\\xa0 you may have noticed that there\\'s a little\\xa0\\nmessage that it shows every time at the top\\xa0\\xa0 when you run it that says, \"Install the latest\\xa0\\nPowerShell ')"
      ]
     },
     "execution_count": 5,
     "metadata": {},
     "output_type": "execute_result"
    }
   ],
   "source": [
    "# check the docs length and content\n",
    "len(docs[0].page_content), docs[0].page_content[:300]"
   ]
  },
  {
   "cell_type": "markdown",
   "id": "4af7cc16",
   "metadata": {},
   "source": [
    "We are using Replicate in this example to host our Llama 2 model so you will need to get a Replicate token.\n",
    "\n",
    "To get the Replicate token: \n",
    "\n",
    "- You will need to first sign in with Replicate with your github account\n",
    "- Then create a free API token [here](https://replicate.com/account/api-tokens) that you can use for a while. \n",
    "\n",
    "**Note** After the free trial ends, you will need to enter billing info to continue to use Llama2 hosted on Replicate.\n",
    "\n",
    "Alternatively, you can run Llama locally. See:\n",
    "- [HelloLlamaCloud](HelloLlamaCloud.ipynb) for further information on how to run Llama using Replicate.\n",
    "- [HelloLlamaLocal](HelloLlamaLocal.ipynb) for further information on how to run Llama locally."
   ]
  },
  {
   "cell_type": "code",
   "execution_count": 6,
   "id": "ab3ac00e",
   "metadata": {},
   "outputs": [],
   "source": [
    "# enter your Replicate API token, or you can use local Llama. See README for more info\n",
    "from getpass import getpass\n",
    "import os\n",
    "\n",
    "REPLICATE_API_TOKEN = 'r8_duxtnDKCMHgm3zubWmGycyVGlgPv1TT0BLvf4'\n",
    "os.environ[\"REPLICATE_API_TOKEN\"] = REPLICATE_API_TOKEN\n"
   ]
  },
  {
   "cell_type": "markdown",
   "id": "6b911efd",
   "metadata": {},
   "source": [
    "Next we call the Llama 2 model from Replicate. In this example we will use the llama 2 13b chat model. You can find more Llama 2 models by searching for them on the [Replicate model explore page](https://replicate.com/explore?query=llama).\n",
    "\n",
    "You can add them here in the format: model_name/version\n",
    "\n",
    "If you using local Llama, just set llm accordingly - see the [HelloLlamaLocal notebook](HelloLlamaLocal.ipynb)"
   ]
  },
  {
   "cell_type": "code",
   "execution_count": 7,
   "id": "adf8cf3d",
   "metadata": {},
   "outputs": [
    {
     "name": "stdout",
     "output_type": "stream",
     "text": [
      "Collecting Replicate\n",
      "  Using cached replicate-0.21.0-py3-none-any.whl (34 kB)\n",
      "Collecting httpx<1,>=0.21.0 (from Replicate)\n",
      "  Using cached httpx-0.25.2-py3-none-any.whl (74 kB)\n",
      "Requirement already satisfied: packaging in ./venv/lib/python3.11/site-packages (from Replicate) (23.2)\n",
      "Requirement already satisfied: pydantic>1 in ./venv/lib/python3.11/site-packages (from Replicate) (2.5.2)\n",
      "Requirement already satisfied: typing-extensions>=4.5.0 in ./venv/lib/python3.11/site-packages (from Replicate) (4.8.0)\n",
      "Requirement already satisfied: anyio in ./venv/lib/python3.11/site-packages (from httpx<1,>=0.21.0->Replicate) (3.7.1)\n",
      "Requirement already satisfied: certifi in ./venv/lib/python3.11/site-packages (from httpx<1,>=0.21.0->Replicate) (2023.11.17)\n",
      "Collecting httpcore==1.* (from httpx<1,>=0.21.0->Replicate)\n",
      "  Using cached httpcore-1.0.2-py3-none-any.whl (76 kB)\n",
      "Requirement already satisfied: idna in ./venv/lib/python3.11/site-packages (from httpx<1,>=0.21.0->Replicate) (3.6)\n",
      "Requirement already satisfied: sniffio in ./venv/lib/python3.11/site-packages (from httpx<1,>=0.21.0->Replicate) (1.3.0)\n",
      "Collecting h11<0.15,>=0.13 (from httpcore==1.*->httpx<1,>=0.21.0->Replicate)\n",
      "  Using cached h11-0.14.0-py3-none-any.whl (58 kB)\n",
      "Requirement already satisfied: annotated-types>=0.4.0 in ./venv/lib/python3.11/site-packages (from pydantic>1->Replicate) (0.6.0)\n",
      "Requirement already satisfied: pydantic-core==2.14.5 in ./venv/lib/python3.11/site-packages (from pydantic>1->Replicate) (2.14.5)\n",
      "Installing collected packages: h11, httpcore, httpx, Replicate\n",
      "Successfully installed Replicate-0.21.0 h11-0.14.0 httpcore-1.0.2 httpx-0.25.2\n",
      "\n",
      "\u001b[1m[\u001b[0m\u001b[34;49mnotice\u001b[0m\u001b[1;39;49m]\u001b[0m\u001b[39;49m A new release of pip is available: \u001b[0m\u001b[31;49m23.1.2\u001b[0m\u001b[39;49m -> \u001b[0m\u001b[32;49m23.3.1\u001b[0m\n",
      "\u001b[1m[\u001b[0m\u001b[34;49mnotice\u001b[0m\u001b[1;39;49m]\u001b[0m\u001b[39;49m To update, run: \u001b[0m\u001b[32;49mpip install --upgrade pip\u001b[0m\n"
     ]
    }
   ],
   "source": [
    "from langchain.llms import Replicate\n",
    "\n",
    "llama2_13b = \"meta/llama-2-13b-chat:f4e2de70d66816a838a89eeeb621910adffb0dd0baba3976c96980970978018d\"\n",
    "llm = Replicate(\n",
    "    model=llama2_13b,\n",
    "    model_kwargs={\"temperature\": 0.01, \"top_p\": 1, \"max_new_tokens\":500}\n",
    ")"
   ]
  },
  {
   "cell_type": "markdown",
   "id": "8e3baa56",
   "metadata": {},
   "source": [
    "Once everything is set up, we prompt Llama 2 to summarize the first 4000 characters of the transcript for us."
   ]
  },
  {
   "cell_type": "code",
   "execution_count": 8,
   "id": "51739e11",
   "metadata": {},
   "outputs": [
    {
     "name": "stdout",
     "output_type": "stream",
     "text": [
      " Sure! Here's a summary of the text:\n",
      "\n",
      "The video discusses the differences between Windows PowerShell and PowerShell Core (also known as PowerShell). All versions of PowerShell are the same software, but different stages of development. The latest version is PowerShell 7. Windows PowerShell is a specific version that comes pre-installed with Windows, while PowerShell can be downloaded and installed separately. Windows PowerShell is an older version that is more stable and included with Windows 10 and 11, while PowerShell is the latest version with more features. Microsoft keeps both versions separate because some companies may use older versions of Windows and need the stability of the built-in PowerShell version.\n"
     ]
    }
   ],
   "source": [
    "from langchain.prompts import ChatPromptTemplate\n",
    "from langchain.chains import LLMChain\n",
    "prompt = ChatPromptTemplate.from_template(\n",
    "    \"Give me a summary of the text below: {text}?\"\n",
    ")\n",
    "chain = LLMChain(llm=llm, prompt=prompt)\n",
    "# be careful of the input text length sent to LLM\n",
    "text = docs[0].page_content[:4000]\n",
    "summary = chain.run(text)\n",
    "# this is the summary of the first 4000 characters of the video content\n",
    "print(summary)"
   ]
  },
  {
   "cell_type": "markdown",
   "id": "8b684b29",
   "metadata": {},
   "source": [
    "Next we try to summarize all the content of the transcript and we should get a `RuntimeError: Your input is too long. Max input length is 4096 tokens, but you supplied 5597 tokens.`."
   ]
  },
  {
   "cell_type": "code",
   "execution_count": 9,
   "id": "88a2c17f",
   "metadata": {},
   "outputs": [
    {
     "name": "stdout",
     "output_type": "stream",
     "text": [
      " Sure! Here is a summary of the text:\n",
      "\n",
      "The video discusses the difference between Windows PowerShell and PowerShell Core, which is a newer version of PowerShell that is cross-platform and open-source. It explains that PowerShell Core is written on the .NET Core framework, whereas Windows PowerShell is on the older .NET framework. The video also touches on PowerShell ISE, an integrated scripting environment only available with Windows PowerShell. It concludes by recommending that viewers install the latest version of PowerShell, as it has many additional features and improvements.\n"
     ]
    }
   ],
   "source": [
    "# try to get a summary of the whole content\n",
    "text = docs[0].page_content\n",
    "summary = chain.run(text)\n",
    "print(summary)\n"
   ]
  },
  {
   "cell_type": "markdown",
   "id": "1ad1881a",
   "metadata": {},
   "source": [
    "\n",
    "Let's try some workarounds to see if we can summarize the entire transcript without running into the `RuntimeError`.\n",
    "\n",
    "We will use the LangChain's `load_summarize_chain` and play around with the `chain_type`.\n"
   ]
  },
  {
   "cell_type": "code",
   "execution_count": 10,
   "id": "9bfee2d3-3afe-41d9-8968-6450cc23f493",
   "metadata": {},
   "outputs": [
    {
     "data": {
      "text/plain": [
       "' Sure! Here is a concise summary of the video:\\n\\nMicrosoft has been pushing an update to the latest version of PowerShell, which is called PowerShell Core. This new version includes several improvements, such as cross-platform compatibility and open-source development. However, there are some differences between PowerShell and PowerShell Core, including changes to the .NET framework and compatibility issues with older versions. Microsoft has also introduced a new integrated scripting environment (ISE) for PowerShell, which is only available with the Windows version. Whether or not to install the latest version of PowerShell depends on individual needs and preferences, but it is recommended to stay up-to-date with the latest features and improvements.'"
      ]
     },
     "execution_count": 10,
     "metadata": {},
     "output_type": "execute_result"
    }
   ],
   "source": [
    "from langchain.chains.summarize import load_summarize_chain\n",
    "# see https://python.langchain.com/docs/use_cases/summarization for more info\n",
    "chain = load_summarize_chain(llm, chain_type=\"stuff\") # other supported methods are map_reduce and refine\n",
    "chain.run(docs)\n",
    "# same RuntimeError: Your input is too long. but stuff works for shorter text with input length <= 4096 tokens"
   ]
  },
  {
   "cell_type": "code",
   "execution_count": 11,
   "id": "682799a8-3846-41b1-a908-02ab5ac3ecee",
   "metadata": {},
   "outputs": [
    {
     "data": {
      "text/plain": [
       "' Sure! Here is a concise summary of the video:\\n\\nMicrosoft has been pushing an update to the latest version of PowerShell, which is called PowerShell Core. This new version includes several improvements, such as cross-platform compatibility and open-source development. However, there are some differences between PowerShell and PowerShell Core, including changes to the .NET framework and compatibility issues with older versions. Microsoft has also introduced a new integrated scripting environment (ISE) for PowerShell, which is only available with the Windows version. Whether or not to install the latest version of PowerShell depends on individual needs and preferences, but it is recommended to stay up-to-date with the latest features and improvements.'"
      ]
     },
     "execution_count": 11,
     "metadata": {},
     "output_type": "execute_result"
    }
   ],
   "source": [
    "chain = load_summarize_chain(llm, chain_type=\"refine\")\n",
    "# still get the \"RuntimeError: Your input is too long. Max input length is 4096 tokens\"\n",
    "chain.run(docs)"
   ]
  },
  {
   "cell_type": "markdown",
   "id": "aecf6328",
   "metadata": {},
   "source": [
    "\n",
    "Since the transcript is bigger than the model can handle, we can split the transcript into chunks instead and use the [`refine`](https://python.langchain.com/docs/modules/chains/document/refine) `chain_type` to iteratively create an answer."
   ]
  },
  {
   "cell_type": "code",
   "execution_count": 12,
   "id": "3be1236a-fe6a-4bf6-983f-0e72dde39fee",
   "metadata": {},
   "outputs": [],
   "source": [
    "from langchain.text_splitter import RecursiveCharacterTextSplitter\n",
    "\n",
    "# we need to split the long input text\n",
    "text_splitter = RecursiveCharacterTextSplitter.from_tiktoken_encoder(\n",
    "    chunk_size=3000, chunk_overlap=0\n",
    ")\n",
    "split_docs = text_splitter.split_documents(docs)"
   ]
  },
  {
   "cell_type": "code",
   "execution_count": 13,
   "id": "12ae9e9d-3434-4a84-a298-f2b98de9ff01",
   "metadata": {},
   "outputs": [
    {
     "data": {
      "text/plain": [
       "(2, 1, 12859, 12911)"
      ]
     },
     "execution_count": 13,
     "metadata": {},
     "output_type": "execute_result"
    }
   ],
   "source": [
    "# check the splitted docs lengths\n",
    "len(split_docs), len(docs), len(split_docs[0].page_content), len(docs[0].page_content)"
   ]
  },
  {
   "cell_type": "code",
   "execution_count": 14,
   "id": "127f17fe-d5b7-43af-bd2f-2b47b076d0b1",
   "metadata": {},
   "outputs": [
    {
     "data": {
      "text/plain": [
       "\" Sure, I'd be happy to help! Based on the additional context provided, here's a revised summary of the video:\\n\\nMicrosoft has been pushing an update to the latest version of PowerShell, called PowerShell Core, due to compatibility issues and changes in the .NET framework. PowerShell Core is built on .NET Core, making it cross-platform and able to run on Windows, Linux, and macOS. While the updated version offers improved performance and new features, some scripts may not work with older versions of PowerShell, so testing is essential before upgrading. Microsoft recommends installing the latest version for optimal results.\\n\\nI hope this revised summary provides more context and helps to clarify the key points of the video. If you have any further requests or need any additional assistance, please let me know!\""
      ]
     },
     "execution_count": 14,
     "metadata": {},
     "output_type": "execute_result"
    }
   ],
   "source": [
    "# now get the summary of the whole docs - the whole youtube content\n",
    "chain = load_summarize_chain(llm, chain_type=\"refine\")\n",
    "chain.run(split_docs)"
   ]
  },
  {
   "cell_type": "markdown",
   "id": "c3976c92",
   "metadata": {},
   "source": [
    "You can also use [`map_reduce`](https://python.langchain.com/docs/modules/chains/document/map_reduce) `chain_type` to implement a map reduce like architecture while summarizing the documents."
   ]
  },
  {
   "cell_type": "code",
   "execution_count": 15,
   "id": "8991df49-8578-46de-8b30-cb2cd11e30f1",
   "metadata": {},
   "outputs": [
    {
     "name": "stderr",
     "output_type": "stream",
     "text": [
      "/Users/ashutoshnigam/Documents/code/Youtube_Summary_Generator/venv/lib/python3.11/site-packages/tqdm/auto.py:21: TqdmWarning: IProgress not found. Please update jupyter and ipywidgets. See https://ipywidgets.readthedocs.io/en/stable/user_install.html\n",
      "  from .autonotebook import tqdm as notebook_tqdm\n",
      "None of PyTorch, TensorFlow >= 2.0, or Flax have been found. Models won't be available and only tokenizers, configuration and file/data utilities can be used.\n",
      "vocab.json: 100%|██████████| 1.04M/1.04M [00:03<00:00, 302kB/s]\n",
      "merges.txt: 100%|██████████| 456k/456k [00:00<00:00, 462kB/s]\n",
      "tokenizer.json: 100%|██████████| 1.36M/1.36M [00:03<00:00, 419kB/s]\n",
      "config.json: 100%|██████████| 665/665 [00:00<00:00, 2.38MB/s]\n"
     ]
    },
    {
     "data": {
      "text/plain": [
       "\" Sure! Here's a concise summary of the video:\\n\\nMicrosoft is updating PowerShell to PowerShell Core, which is built on .NET Core instead of .NET Framework. This change allows for cross-platform compatibility (Windows, Linux, macOS) and new features. However, some scripts may not work with older versions of PowerShell, so testing is recommended before upgrading.\""
      ]
     },
     "execution_count": 15,
     "metadata": {},
     "output_type": "execute_result"
    }
   ],
   "source": [
    "# another method is map_reduce\n",
    "chain = load_summarize_chain(llm, chain_type=\"map_reduce\")\n",
    "chain.run(split_docs)"
   ]
  },
  {
   "cell_type": "markdown",
   "id": "77d580de",
   "metadata": {},
   "source": [
    "To investigate further, let's turn on Langchain's debug mode on to get an idea of how many calls are made to the model and the details of the inputs and outputs.\n",
    "We will then run our summary using the `stuff` and `refine` `chain_types` and take a look at our output."
   ]
  },
  {
   "cell_type": "code",
   "execution_count": 16,
   "id": "f2138911-d2b9-41f3-870f-9bc37e2043d9",
   "metadata": {},
   "outputs": [
    {
     "name": "stdout",
     "output_type": "stream",
     "text": [
      "\u001b[32;1m\u001b[1;3m[chain/start]\u001b[0m \u001b[1m[1:chain:StuffDocumentsChain] Entering Chain run with input:\n",
      "\u001b[0m[inputs]\n",
      "\u001b[32;1m\u001b[1;3m[chain/start]\u001b[0m \u001b[1m[1:chain:StuffDocumentsChain > 2:chain:LLMChain] Entering Chain run with input:\n",
      "\u001b[0m{\n",
      "  \"text\": \"In a previous video, I discussed the \\ndifference between the Command Prompt   and PowerShell in Windows. And if \\nyou've ever gone to use PowerShell,   you may have noticed that there's a little \\nmessage that it shows every time at the top   when you run it that says, \\\"Install the latest \\nPowerShell for new features and improvements.\\\" Now that new version they're talking about \\nis PowerShell Core, it's sometimes called,   also PowerShell 7 is the latest diversion number \\nfor it. And the names are kind of confusing,   so that's one thing I'm gonna explain. \\nNow, one thing you might be wondering   is if they're pushing so hard for you to \\ninstall this latest version, why don't   they just update your version of PowerShell \\nautomatically and give you the latest version? That's another thing I'll explain. Now before \\ngetting into everything, quickly I wanna mention   that I'm not gonna get into the super nitty gritty \\ndetails about all the differences between the two   versions. I'm mostly gonna stick to more higher \\nlevel, major differences, and if you want to look   up all the little details, I'll post a link for \\nthat in the description and mention it later. Alright so now let's get into the seemingly \\ndifferent versions of PowerShell. So you may   have heard several terms, you may have heard \\nWindows PowerShell or also PowerShell Core,   I already mentioned that myself. Also just \\nPowerShell. And the important thing to understand   is all of these do refer to the same \\npiece of software, it's all PowerShell,   just different versions of it, \\ndifferent stages of development. And there is a reason for them having different \\nnames, which I'll go over. So like I touched on,   PowerShell is the general term for the software. \\nSo it's sort of like saying iOS or Android,   you might be talking about a \\nspecific version like iOS 16 or   Android 10, but you can also just \\nbe referring to the whole thing. And at the moment there are seven different \\nmajor versions of PowerShell. The latest being   PowerShell 7. Now as you know, Windows \\nincludes PowerShell when you install it,   it's pre-installed and what you \\nmight not have noticed, though,   you can tell me, is if you go to run \\nPowerShell, it says Windows PowerShell. It doesn't just say PowerShell, and you might \\nthink what's the difference? Is there? Well, yes,   there is a difference and it is significant. \\nYou see PowerShell is not just included with   Windows. It is its own piece of software. If \\nyou went to the GitHub page where Microsoft   posts the source code for the new PowerShell, \\nyou can go and download it and install it onto your computer. But if you do go \\nto install it, it will just show up as   PowerShell, not Windows PowerShell. Windows \\nPowerShell specifically refers to the   install that came with Windows. \\nIt's considered a component   of your Windows installation. Now Windows \\nPowerShell is the same software as PowerShell. It's just an older version, it's a more \\nstable version that Microsoft decided,   \\\"Okay with Windows 10, for example, we're going \\nto include this version of PowerShell,\\\" in this   case version 5.1 is what's included \\nwith Windows 10 and Windows 11. So   if you're running Windows PowerShell, it is just \\nPowerShell 5.1, and that's included with Windows, so they call it Windows PowerShell. But \\nthe important thing to know is it's not   gonna be the very latest version \\nof PowerShell unless in the future,   there's a brand new version of Windows \\nand they decide to include the latest   major version of PowerShell, but at the \\nmoment that's not the case. But why is this? Why keep this separate older version of PowerShell \\nin Windows that you never add features to, and   still promote this newer version of PowerShell? \\nWhy even keep this difference up? Well,   imagine you're a very big company and \\nyou're running some old version of Windows,   like XP, God forbid, and you \\ndecide, \\\"Alright you know what? We're finally gonna bite the bullet and just \\nupgrade all our systems to Windows 11. We're gonna   rewrite our entire infrastructure around Windows \\nand that's going to include a lot of PowerShell   scripts. So when we deploy new computers, it's \\ngonna use a PowerShell script to install all   the software. And we're also gonna teach all \\nof our IT admins the different commands and configurations we want to use, and we're gonna \\nuse PowerShell to do that.\\\" And in such a real   scenario, it's likely that the company does \\nnot exactly care about having all the latest   nice features. They are going to absolutely \\nprioritize the stuff just continuing to work.   If you're putting all these resources \\ninto creating scripts and teaching   your IT how to use PowerShell on \\nthis particular version and then Microsoft goes and creates multiple updates for \\nPowerShell that's all these new major versions   that change things and may break things. \\nWell then that's not very appealing if   every few years you're gonna have to rewrite all \\nyour scripts, and you don't really have a choice   in it. So instead when Microsoft goes to release a \\nmajor version of Windows, like Windows 11, they'll   say, \\\"Okay you know what, we're gonna release \\nPowerShell 5.1 along with Windows and build it in. And then we're also going to support \\nthat specific version of PowerShell,   as long as we support Windows 11, cause we're \\ngonna include it as a component.\\\" And of course,   Microsoft is going to continue to develop \\nPowerShell and add features for the future.   And they'll release that as its own separate \\nsoftware, for people who do happen to want to   have the latest version with the latest features, \\nthey can choose to go and install that themselves. And again, it will be alongside Windows \\nPowerShell, which will stay the same. But   the important thing is even though they're not \\ngonna be adding new features or upgrading anything   major, well, they're still going to support it in \\nterms of creating bug fixes and security updates.   So that way companies that invest a bunch of \\nresources into creating an infrastructure around this version of PowerShell, they know that \\nthey can keep doing that because Microsoft   will keep supporting it. And they don't have \\nto use the newer version that might not work   with what they make. Alright so now we \\ncan get into what the heck PowerShell   Core is. So the first thing \\nyou need to understand is that all the way up to PowerShell version five, it \\nwas written on a software framework called the   .NET framework. And just think of this, like \\nthe underlying architecture of the software,   not gonna get into too many more details \\nthan that. But starting with PowerShell 6,   Microsoft rewrote PowerShell in a new \\nframework or architecture, which was .NET Core. And it's actually technically a \\nsubset of the .NET framework, but not gonna   get into that, it's a new architecture, just \\nthink of it that way. And there were several   improvements. One very notable one is that where \\nPowerShell before could only run on Windows,   now PowerShell 6 and forward, aKA PowerShell \\nCore because they run on .NET Core, those are actually able to run and be installed \\non not just Windows, but also Linux and MacOS   as well. So now PowerShell is completely \\ncross platform and also Microsoft decided to   make PowerShell Core open source. So you can \\ngo and look at the source code on GitHub if   you wanted to. Now, when Microsoft went \\nto release PowerShell 6, they decided \\\"Alright behind the scenes, there are \\nenough major differences with this   and also enough compatibility differences, some \\nthings don't exactly work as they used to with   PowerShell 5. We'd better add something to the \\nname to signify it's a little bit different.   So they decided to call it PowerShell Core 6 \\nbecause it's written on the .NET Core framework. So basically just to let people know \\nthat this is more than a typical   version update. However, all that being said, when \\nthey released PowerShell 7, they decided to just   drop the Core naming scheme and just call it \\nPowerShell again. Or if you want to include   the version name, just PowerShell 7. And a big \\npart of that is when they went from 6 to 7,   they improved a lot of the compatibility issues. So it was a lot easier to get \\nstuff that you were doing on 5   to work with 7. Though, there are some \\ndifferences. So I guess they figured,   \\\"Alright, it's close enough we'll just call \\nPowerShell again.\\\" And just to be totally clear,   it's not like version 6 and 7 had a non-core \\nversion. When they went from version 5 to 6,   they completely changed PowerShell \\nto be on the .NET Core framework, it's not like they had two \\nparallel versions. So in summary,   PowerShell Core is just an alternative name \\nyou can use to refer to versions of PowerShell   that are written on the .NET Core framework, which \\nare at the moment 6 and 7 and also anything going   forward. Now another thing I want to talk \\nabout, because you may have also seen this if you've ever gone to type in PowerShell into \\nthe start menu, you may have seen a result   for something called Windows PowerShell \\nISE come up. And if you open it up,   you can see it as a bunch of these commands on \\nthe right hand side and on the left, that's like   this window where you can type in a bunch of text \\nand below it, it looks like a regular PowerShell window. What is all this about? Well like you \\nmight know, and how I discussed in my other video,   PowerShell is not just the name of the command \\nprompt-like program, it's actually also the   name of an entire scripting language. So \\nyou could write a program in PowerShell.   So just like you might write a program in \\nPython or some other programming language,   you can write it in PowerShell. And then it runs in the PowerShell program, but it's also \\nwritten in the PowerShell language. Anyway,   because you might be writing scripts \\nthat are many, many lines long, not just   typing in individual commands. They created the \\nPowerShell ISE integrated scripting environment,   which basically just gives you a larger space \\nwhere you can type in and create whole script   and also run it as a whole, instead \\nof having to do something silly like putting each individual line of the script   into PowerShell to test it out and \\nrunning it individually. You could   just literally run the whole thing at once, \\nalso debug the script, it's very similar to   an IDE, integrated development environment for \\nother programs. Though one thing to mention is   the PowerShell ISE is only included with the \\nWindows PowerShell, so installed with Windows. If you go to download PowerShell \\nCore, latest version of PowerShell,   it's not gonna include a PowerShell Core ISE. \\nIt's only the one with Windows that has that.   Why is that? I don't know. So some final \\nthoughts, should you actually install   this latest version of PowerShell they keep \\ntelling you to? I mean, yeah, you may as well, there's not really a reason not to. There are \\nplenty of additional features and like I said,   it's under active development, so there will \\ncontinue to be new features. For example,   some of the ones listed on the Microsoft \\narticle about this. It's cross platform,   we already talked about that. \\nIt has improved performance, there's new Cmdlets which are basically \\njust like little bit more advanced commands,   I talked about that in the other video. And \\nthere's new features with the language itself, so   new ways to do different comparisons or \\nwhatever. But there are also plenty of   other differences, including ones \\nthat may make it not compatible if you were to try to run certain scripts in \\nolder versions of PowerShell. For example,   many commandlets and modules were removed. \\nAlso because this is cross platform,   there are some scripts that you might \\nrun on Windows that might not work   on another computer. Obviously, if \\nit was like MacOS or Linux. There's   also a whole bunch of other little technical \\ndifferences that I'm not qualified to explain, so I'll put that link in the \\ndescription if you want to see   the exact article that talks about literally all \\nthe differences, if you are familiar with that   stuff. But hopefully this video still informed \\nyou, maybe you didn't even know about this new   version of PowerShell but now you do, and \\nyou decide, \\\"Hey, I wanna get that too.\\\" If you enjoyed the video, be sure to \\nsmash the like button so hard that   you literally put your hand through the \\nmonitor. And if you wanna keep watching   the next video I'd recommend is that \\none that I mentioned at the beginning,   talking about the differences between \\nregular Command, Prompt and PowerShell. I went into quite a bit more differences in \\ngeneral, not just PowerShell Core, so you can   click on that right there. So thanks so much for\\n\\nwatching guys, and I'll see you in the next video.\"\n",
      "}\n",
      "\u001b[32;1m\u001b[1;3m[llm/start]\u001b[0m \u001b[1m[1:chain:StuffDocumentsChain > 2:chain:LLMChain > 3:llm:Replicate] Entering LLM run with input:\n",
      "\u001b[0m{\n",
      "  \"prompts\": [\n",
      "    \"Write a concise summary of the following:\\n\\n\\n\\\"In a previous video, I discussed the \\ndifference between the Command Prompt   and PowerShell in Windows. And if \\nyou've ever gone to use PowerShell,   you may have noticed that there's a little \\nmessage that it shows every time at the top   when you run it that says, \\\"Install the latest \\nPowerShell for new features and improvements.\\\" Now that new version they're talking about \\nis PowerShell Core, it's sometimes called,   also PowerShell 7 is the latest diversion number \\nfor it. And the names are kind of confusing,   so that's one thing I'm gonna explain. \\nNow, one thing you might be wondering   is if they're pushing so hard for you to \\ninstall this latest version, why don't   they just update your version of PowerShell \\nautomatically and give you the latest version? That's another thing I'll explain. Now before \\ngetting into everything, quickly I wanna mention   that I'm not gonna get into the super nitty gritty \\ndetails about all the differences between the two   versions. I'm mostly gonna stick to more higher \\nlevel, major differences, and if you want to look   up all the little details, I'll post a link for \\nthat in the description and mention it later. Alright so now let's get into the seemingly \\ndifferent versions of PowerShell. So you may   have heard several terms, you may have heard \\nWindows PowerShell or also PowerShell Core,   I already mentioned that myself. Also just \\nPowerShell. And the important thing to understand   is all of these do refer to the same \\npiece of software, it's all PowerShell,   just different versions of it, \\ndifferent stages of development. And there is a reason for them having different \\nnames, which I'll go over. So like I touched on,   PowerShell is the general term for the software. \\nSo it's sort of like saying iOS or Android,   you might be talking about a \\nspecific version like iOS 16 or   Android 10, but you can also just \\nbe referring to the whole thing. And at the moment there are seven different \\nmajor versions of PowerShell. The latest being   PowerShell 7. Now as you know, Windows \\nincludes PowerShell when you install it,   it's pre-installed and what you \\nmight not have noticed, though,   you can tell me, is if you go to run \\nPowerShell, it says Windows PowerShell. It doesn't just say PowerShell, and you might \\nthink what's the difference? Is there? Well, yes,   there is a difference and it is significant. \\nYou see PowerShell is not just included with   Windows. It is its own piece of software. If \\nyou went to the GitHub page where Microsoft   posts the source code for the new PowerShell, \\nyou can go and download it and install it onto your computer. But if you do go \\nto install it, it will just show up as   PowerShell, not Windows PowerShell. Windows \\nPowerShell specifically refers to the   install that came with Windows. \\nIt's considered a component   of your Windows installation. Now Windows \\nPowerShell is the same software as PowerShell. It's just an older version, it's a more \\nstable version that Microsoft decided,   \\\"Okay with Windows 10, for example, we're going \\nto include this version of PowerShell,\\\" in this   case version 5.1 is what's included \\nwith Windows 10 and Windows 11. So   if you're running Windows PowerShell, it is just \\nPowerShell 5.1, and that's included with Windows, so they call it Windows PowerShell. But \\nthe important thing to know is it's not   gonna be the very latest version \\nof PowerShell unless in the future,   there's a brand new version of Windows \\nand they decide to include the latest   major version of PowerShell, but at the \\nmoment that's not the case. But why is this? Why keep this separate older version of PowerShell \\nin Windows that you never add features to, and   still promote this newer version of PowerShell? \\nWhy even keep this difference up? Well,   imagine you're a very big company and \\nyou're running some old version of Windows,   like XP, God forbid, and you \\ndecide, \\\"Alright you know what? We're finally gonna bite the bullet and just \\nupgrade all our systems to Windows 11. We're gonna   rewrite our entire infrastructure around Windows \\nand that's going to include a lot of PowerShell   scripts. So when we deploy new computers, it's \\ngonna use a PowerShell script to install all   the software. And we're also gonna teach all \\nof our IT admins the different commands and configurations we want to use, and we're gonna \\nuse PowerShell to do that.\\\" And in such a real   scenario, it's likely that the company does \\nnot exactly care about having all the latest   nice features. They are going to absolutely \\nprioritize the stuff just continuing to work.   If you're putting all these resources \\ninto creating scripts and teaching   your IT how to use PowerShell on \\nthis particular version and then Microsoft goes and creates multiple updates for \\nPowerShell that's all these new major versions   that change things and may break things. \\nWell then that's not very appealing if   every few years you're gonna have to rewrite all \\nyour scripts, and you don't really have a choice   in it. So instead when Microsoft goes to release a \\nmajor version of Windows, like Windows 11, they'll   say, \\\"Okay you know what, we're gonna release \\nPowerShell 5.1 along with Windows and build it in. And then we're also going to support \\nthat specific version of PowerShell,   as long as we support Windows 11, cause we're \\ngonna include it as a component.\\\" And of course,   Microsoft is going to continue to develop \\nPowerShell and add features for the future.   And they'll release that as its own separate \\nsoftware, for people who do happen to want to   have the latest version with the latest features, \\nthey can choose to go and install that themselves. And again, it will be alongside Windows \\nPowerShell, which will stay the same. But   the important thing is even though they're not \\ngonna be adding new features or upgrading anything   major, well, they're still going to support it in \\nterms of creating bug fixes and security updates.   So that way companies that invest a bunch of \\nresources into creating an infrastructure around this version of PowerShell, they know that \\nthey can keep doing that because Microsoft   will keep supporting it. And they don't have \\nto use the newer version that might not work   with what they make. Alright so now we \\ncan get into what the heck PowerShell   Core is. So the first thing \\nyou need to understand is that all the way up to PowerShell version five, it \\nwas written on a software framework called the   .NET framework. And just think of this, like \\nthe underlying architecture of the software,   not gonna get into too many more details \\nthan that. But starting with PowerShell 6,   Microsoft rewrote PowerShell in a new \\nframework or architecture, which was .NET Core. And it's actually technically a \\nsubset of the .NET framework, but not gonna   get into that, it's a new architecture, just \\nthink of it that way. And there were several   improvements. One very notable one is that where \\nPowerShell before could only run on Windows,   now PowerShell 6 and forward, aKA PowerShell \\nCore because they run on .NET Core, those are actually able to run and be installed \\non not just Windows, but also Linux and MacOS   as well. So now PowerShell is completely \\ncross platform and also Microsoft decided to   make PowerShell Core open source. So you can \\ngo and look at the source code on GitHub if   you wanted to. Now, when Microsoft went \\nto release PowerShell 6, they decided \\\"Alright behind the scenes, there are \\nenough major differences with this   and also enough compatibility differences, some \\nthings don't exactly work as they used to with   PowerShell 5. We'd better add something to the \\nname to signify it's a little bit different.   So they decided to call it PowerShell Core 6 \\nbecause it's written on the .NET Core framework. So basically just to let people know \\nthat this is more than a typical   version update. However, all that being said, when \\nthey released PowerShell 7, they decided to just   drop the Core naming scheme and just call it \\nPowerShell again. Or if you want to include   the version name, just PowerShell 7. And a big \\npart of that is when they went from 6 to 7,   they improved a lot of the compatibility issues. So it was a lot easier to get \\nstuff that you were doing on 5   to work with 7. Though, there are some \\ndifferences. So I guess they figured,   \\\"Alright, it's close enough we'll just call \\nPowerShell again.\\\" And just to be totally clear,   it's not like version 6 and 7 had a non-core \\nversion. When they went from version 5 to 6,   they completely changed PowerShell \\nto be on the .NET Core framework, it's not like they had two \\nparallel versions. So in summary,   PowerShell Core is just an alternative name \\nyou can use to refer to versions of PowerShell   that are written on the .NET Core framework, which \\nare at the moment 6 and 7 and also anything going   forward. Now another thing I want to talk \\nabout, because you may have also seen this if you've ever gone to type in PowerShell into \\nthe start menu, you may have seen a result   for something called Windows PowerShell \\nISE come up. And if you open it up,   you can see it as a bunch of these commands on \\nthe right hand side and on the left, that's like   this window where you can type in a bunch of text \\nand below it, it looks like a regular PowerShell window. What is all this about? Well like you \\nmight know, and how I discussed in my other video,   PowerShell is not just the name of the command \\nprompt-like program, it's actually also the   name of an entire scripting language. So \\nyou could write a program in PowerShell.   So just like you might write a program in \\nPython or some other programming language,   you can write it in PowerShell. And then it runs in the PowerShell program, but it's also \\nwritten in the PowerShell language. Anyway,   because you might be writing scripts \\nthat are many, many lines long, not just   typing in individual commands. They created the \\nPowerShell ISE integrated scripting environment,   which basically just gives you a larger space \\nwhere you can type in and create whole script   and also run it as a whole, instead \\nof having to do something silly like putting each individual line of the script   into PowerShell to test it out and \\nrunning it individually. You could   just literally run the whole thing at once, \\nalso debug the script, it's very similar to   an IDE, integrated development environment for \\nother programs. Though one thing to mention is   the PowerShell ISE is only included with the \\nWindows PowerShell, so installed with Windows. If you go to download PowerShell \\nCore, latest version of PowerShell,   it's not gonna include a PowerShell Core ISE. \\nIt's only the one with Windows that has that.   Why is that? I don't know. So some final \\nthoughts, should you actually install   this latest version of PowerShell they keep \\ntelling you to? I mean, yeah, you may as well, there's not really a reason not to. There are \\nplenty of additional features and like I said,   it's under active development, so there will \\ncontinue to be new features. For example,   some of the ones listed on the Microsoft \\narticle about this. It's cross platform,   we already talked about that. \\nIt has improved performance, there's new Cmdlets which are basically \\njust like little bit more advanced commands,   I talked about that in the other video. And \\nthere's new features with the language itself, so   new ways to do different comparisons or \\nwhatever. But there are also plenty of   other differences, including ones \\nthat may make it not compatible if you were to try to run certain scripts in \\nolder versions of PowerShell. For example,   many commandlets and modules were removed. \\nAlso because this is cross platform,   there are some scripts that you might \\nrun on Windows that might not work   on another computer. Obviously, if \\nit was like MacOS or Linux. There's   also a whole bunch of other little technical \\ndifferences that I'm not qualified to explain, so I'll put that link in the \\ndescription if you want to see   the exact article that talks about literally all \\nthe differences, if you are familiar with that   stuff. But hopefully this video still informed \\nyou, maybe you didn't even know about this new   version of PowerShell but now you do, and \\nyou decide, \\\"Hey, I wanna get that too.\\\" If you enjoyed the video, be sure to \\nsmash the like button so hard that   you literally put your hand through the \\nmonitor. And if you wanna keep watching   the next video I'd recommend is that \\none that I mentioned at the beginning,   talking about the differences between \\nregular Command, Prompt and PowerShell. I went into quite a bit more differences in \\ngeneral, not just PowerShell Core, so you can   click on that right there. So thanks so much for\\n\\nwatching guys, and I'll see you in the next video.\\\"\\n\\n\\nCONCISE SUMMARY:\"\n",
      "  ]\n",
      "}\n",
      "\u001b[36;1m\u001b[1;3m[llm/end]\u001b[0m \u001b[1m[1:chain:StuffDocumentsChain > 2:chain:LLMChain > 3:llm:Replicate] [8.12s] Exiting LLM run with output:\n",
      "\u001b[0m{\n",
      "  \"generations\": [\n",
      "    [\n",
      "      {\n",
      "        \"text\": \" Sure! Here is a concise summary of the video:\\n\\nMicrosoft has been pushing an update to the latest version of PowerShell, which is called PowerShell Core. This new version includes several improvements, such as cross-platform compatibility and open-source development. However, there are some differences between PowerShell and PowerShell Core, including changes in naming conventions and compatibility issues. The main difference is that PowerShell Core is written on the .NET Core framework, while traditional PowerShell is based on the .NET framework. Additionally, PowerShell Core includes a new integrated scripting environment (ISE) for writing and debugging scripts. Overall, installing the latest version of PowerShell is recommended, but it may not be compatible with all scripts or systems.\",\n",
      "        \"generation_info\": null,\n",
      "        \"type\": \"Generation\"\n",
      "      }\n",
      "    ]\n",
      "  ],\n",
      "  \"llm_output\": null,\n",
      "  \"run\": null\n",
      "}\n",
      "\u001b[36;1m\u001b[1;3m[chain/end]\u001b[0m \u001b[1m[1:chain:StuffDocumentsChain > 2:chain:LLMChain] [8.12s] Exiting Chain run with output:\n",
      "\u001b[0m{\n",
      "  \"text\": \" Sure! Here is a concise summary of the video:\\n\\nMicrosoft has been pushing an update to the latest version of PowerShell, which is called PowerShell Core. This new version includes several improvements, such as cross-platform compatibility and open-source development. However, there are some differences between PowerShell and PowerShell Core, including changes in naming conventions and compatibility issues. The main difference is that PowerShell Core is written on the .NET Core framework, while traditional PowerShell is based on the .NET framework. Additionally, PowerShell Core includes a new integrated scripting environment (ISE) for writing and debugging scripts. Overall, installing the latest version of PowerShell is recommended, but it may not be compatible with all scripts or systems.\"\n",
      "}\n",
      "\u001b[36;1m\u001b[1;3m[chain/end]\u001b[0m \u001b[1m[1:chain:StuffDocumentsChain] [8.12s] Exiting Chain run with output:\n",
      "\u001b[0m{\n",
      "  \"output_text\": \" Sure! Here is a concise summary of the video:\\n\\nMicrosoft has been pushing an update to the latest version of PowerShell, which is called PowerShell Core. This new version includes several improvements, such as cross-platform compatibility and open-source development. However, there are some differences between PowerShell and PowerShell Core, including changes in naming conventions and compatibility issues. The main difference is that PowerShell Core is written on the .NET Core framework, while traditional PowerShell is based on the .NET framework. Additionally, PowerShell Core includes a new integrated scripting environment (ISE) for writing and debugging scripts. Overall, installing the latest version of PowerShell is recommended, but it may not be compatible with all scripts or systems.\"\n",
      "}\n"
     ]
    },
    {
     "data": {
      "text/plain": [
       "' Sure! Here is a concise summary of the video:\\n\\nMicrosoft has been pushing an update to the latest version of PowerShell, which is called PowerShell Core. This new version includes several improvements, such as cross-platform compatibility and open-source development. However, there are some differences between PowerShell and PowerShell Core, including changes in naming conventions and compatibility issues. The main difference is that PowerShell Core is written on the .NET Core framework, while traditional PowerShell is based on the .NET framework. Additionally, PowerShell Core includes a new integrated scripting environment (ISE) for writing and debugging scripts. Overall, installing the latest version of PowerShell is recommended, but it may not be compatible with all scripts or systems.'"
      ]
     },
     "execution_count": 16,
     "metadata": {},
     "output_type": "execute_result"
    }
   ],
   "source": [
    "# to find how many calls to Llama have been made and the details of inputs and outputs of each call, set langchain to debug\n",
    "import langchain\n",
    "langchain.debug = True\n",
    "\n",
    "# stuff method will cause the error in the end\n",
    "chain = load_summarize_chain(llm, chain_type=\"stuff\")\n",
    "chain.run(split_docs)"
   ]
  },
  {
   "cell_type": "code",
   "execution_count": 17,
   "id": "60d1a531-ab48-45cc-a7de-59a14e18240d",
   "metadata": {},
   "outputs": [
    {
     "name": "stdout",
     "output_type": "stream",
     "text": [
      "\u001b[32;1m\u001b[1;3m[chain/start]\u001b[0m \u001b[1m[1:chain:RefineDocumentsChain] Entering Chain run with input:\n",
      "\u001b[0m[inputs]\n",
      "\u001b[32;1m\u001b[1;3m[chain/start]\u001b[0m \u001b[1m[1:chain:RefineDocumentsChain > 2:chain:LLMChain] Entering Chain run with input:\n",
      "\u001b[0m{\n",
      "  \"text\": \"In a previous video, I discussed the \\ndifference between the Command Prompt   and PowerShell in Windows. And if \\nyou've ever gone to use PowerShell,   you may have noticed that there's a little \\nmessage that it shows every time at the top   when you run it that says, \\\"Install the latest \\nPowerShell for new features and improvements.\\\" Now that new version they're talking about \\nis PowerShell Core, it's sometimes called,   also PowerShell 7 is the latest diversion number \\nfor it. And the names are kind of confusing,   so that's one thing I'm gonna explain. \\nNow, one thing you might be wondering   is if they're pushing so hard for you to \\ninstall this latest version, why don't   they just update your version of PowerShell \\nautomatically and give you the latest version? That's another thing I'll explain. Now before \\ngetting into everything, quickly I wanna mention   that I'm not gonna get into the super nitty gritty \\ndetails about all the differences between the two   versions. I'm mostly gonna stick to more higher \\nlevel, major differences, and if you want to look   up all the little details, I'll post a link for \\nthat in the description and mention it later. Alright so now let's get into the seemingly \\ndifferent versions of PowerShell. So you may   have heard several terms, you may have heard \\nWindows PowerShell or also PowerShell Core,   I already mentioned that myself. Also just \\nPowerShell. And the important thing to understand   is all of these do refer to the same \\npiece of software, it's all PowerShell,   just different versions of it, \\ndifferent stages of development. And there is a reason for them having different \\nnames, which I'll go over. So like I touched on,   PowerShell is the general term for the software. \\nSo it's sort of like saying iOS or Android,   you might be talking about a \\nspecific version like iOS 16 or   Android 10, but you can also just \\nbe referring to the whole thing. And at the moment there are seven different \\nmajor versions of PowerShell. The latest being   PowerShell 7. Now as you know, Windows \\nincludes PowerShell when you install it,   it's pre-installed and what you \\nmight not have noticed, though,   you can tell me, is if you go to run \\nPowerShell, it says Windows PowerShell. It doesn't just say PowerShell, and you might \\nthink what's the difference? Is there? Well, yes,   there is a difference and it is significant. \\nYou see PowerShell is not just included with   Windows. It is its own piece of software. If \\nyou went to the GitHub page where Microsoft   posts the source code for the new PowerShell, \\nyou can go and download it and install it onto your computer. But if you do go \\nto install it, it will just show up as   PowerShell, not Windows PowerShell. Windows \\nPowerShell specifically refers to the   install that came with Windows. \\nIt's considered a component   of your Windows installation. Now Windows \\nPowerShell is the same software as PowerShell. It's just an older version, it's a more \\nstable version that Microsoft decided,   \\\"Okay with Windows 10, for example, we're going \\nto include this version of PowerShell,\\\" in this   case version 5.1 is what's included \\nwith Windows 10 and Windows 11. So   if you're running Windows PowerShell, it is just \\nPowerShell 5.1, and that's included with Windows, so they call it Windows PowerShell. But \\nthe important thing to know is it's not   gonna be the very latest version \\nof PowerShell unless in the future,   there's a brand new version of Windows \\nand they decide to include the latest   major version of PowerShell, but at the \\nmoment that's not the case. But why is this? Why keep this separate older version of PowerShell \\nin Windows that you never add features to, and   still promote this newer version of PowerShell? \\nWhy even keep this difference up? Well,   imagine you're a very big company and \\nyou're running some old version of Windows,   like XP, God forbid, and you \\ndecide, \\\"Alright you know what? We're finally gonna bite the bullet and just \\nupgrade all our systems to Windows 11. We're gonna   rewrite our entire infrastructure around Windows \\nand that's going to include a lot of PowerShell   scripts. So when we deploy new computers, it's \\ngonna use a PowerShell script to install all   the software. And we're also gonna teach all \\nof our IT admins the different commands and configurations we want to use, and we're gonna \\nuse PowerShell to do that.\\\" And in such a real   scenario, it's likely that the company does \\nnot exactly care about having all the latest   nice features. They are going to absolutely \\nprioritize the stuff just continuing to work.   If you're putting all these resources \\ninto creating scripts and teaching   your IT how to use PowerShell on \\nthis particular version and then Microsoft goes and creates multiple updates for \\nPowerShell that's all these new major versions   that change things and may break things. \\nWell then that's not very appealing if   every few years you're gonna have to rewrite all \\nyour scripts, and you don't really have a choice   in it. So instead when Microsoft goes to release a \\nmajor version of Windows, like Windows 11, they'll   say, \\\"Okay you know what, we're gonna release \\nPowerShell 5.1 along with Windows and build it in. And then we're also going to support \\nthat specific version of PowerShell,   as long as we support Windows 11, cause we're \\ngonna include it as a component.\\\" And of course,   Microsoft is going to continue to develop \\nPowerShell and add features for the future.   And they'll release that as its own separate \\nsoftware, for people who do happen to want to   have the latest version with the latest features, \\nthey can choose to go and install that themselves. And again, it will be alongside Windows \\nPowerShell, which will stay the same. But   the important thing is even though they're not \\ngonna be adding new features or upgrading anything   major, well, they're still going to support it in \\nterms of creating bug fixes and security updates.   So that way companies that invest a bunch of \\nresources into creating an infrastructure around this version of PowerShell, they know that \\nthey can keep doing that because Microsoft   will keep supporting it. And they don't have \\nto use the newer version that might not work   with what they make. Alright so now we \\ncan get into what the heck PowerShell   Core is. So the first thing \\nyou need to understand is that all the way up to PowerShell version five, it \\nwas written on a software framework called the   .NET framework. And just think of this, like \\nthe underlying architecture of the software,   not gonna get into too many more details \\nthan that. But starting with PowerShell 6,   Microsoft rewrote PowerShell in a new \\nframework or architecture, which was .NET Core. And it's actually technically a \\nsubset of the .NET framework, but not gonna   get into that, it's a new architecture, just \\nthink of it that way. And there were several   improvements. One very notable one is that where \\nPowerShell before could only run on Windows,   now PowerShell 6 and forward, aKA PowerShell \\nCore because they run on .NET Core, those are actually able to run and be installed \\non not just Windows, but also Linux and MacOS   as well. So now PowerShell is completely \\ncross platform and also Microsoft decided to   make PowerShell Core open source. So you can \\ngo and look at the source code on GitHub if   you wanted to. Now, when Microsoft went \\nto release PowerShell 6, they decided \\\"Alright behind the scenes, there are \\nenough major differences with this   and also enough compatibility differences, some \\nthings don't exactly work as they used to with   PowerShell 5. We'd better add something to the \\nname to signify it's a little bit different.   So they decided to call it PowerShell Core 6 \\nbecause it's written on the .NET Core framework. So basically just to let people know \\nthat this is more than a typical   version update. However, all that being said, when \\nthey released PowerShell 7, they decided to just   drop the Core naming scheme and just call it \\nPowerShell again. Or if you want to include   the version name, just PowerShell 7. And a big \\npart of that is when they went from 6 to 7,   they improved a lot of the compatibility issues. So it was a lot easier to get \\nstuff that you were doing on 5   to work with 7. Though, there are some \\ndifferences. So I guess they figured,   \\\"Alright, it's close enough we'll just call \\nPowerShell again.\\\" And just to be totally clear,   it's not like version 6 and 7 had a non-core \\nversion. When they went from version 5 to 6,   they completely changed PowerShell \\nto be on the .NET Core framework, it's not like they had two \\nparallel versions. So in summary,   PowerShell Core is just an alternative name \\nyou can use to refer to versions of PowerShell   that are written on the .NET Core framework, which \\nare at the moment 6 and 7 and also anything going   forward. Now another thing I want to talk \\nabout, because you may have also seen this if you've ever gone to type in PowerShell into \\nthe start menu, you may have seen a result   for something called Windows PowerShell \\nISE come up. And if you open it up,   you can see it as a bunch of these commands on \\nthe right hand side and on the left, that's like   this window where you can type in a bunch of text \\nand below it, it looks like a regular PowerShell window. What is all this about? Well like you \\nmight know, and how I discussed in my other video,   PowerShell is not just the name of the command \\nprompt-like program, it's actually also the   name of an entire scripting language. So \\nyou could write a program in PowerShell.   So just like you might write a program in \\nPython or some other programming language,   you can write it in PowerShell. And then it runs in the PowerShell program, but it's also \\nwritten in the PowerShell language. Anyway,   because you might be writing scripts \\nthat are many, many lines long, not just   typing in individual commands. They created the \\nPowerShell ISE integrated scripting environment,   which basically just gives you a larger space \\nwhere you can type in and create whole script   and also run it as a whole, instead \\nof having to do something silly like putting each individual line of the script   into PowerShell to test it out and \\nrunning it individually. You could   just literally run the whole thing at once, \\nalso debug the script, it's very similar to   an IDE, integrated development environment for \\nother programs. Though one thing to mention is   the PowerShell ISE is only included with the \\nWindows PowerShell, so installed with Windows. If you go to download PowerShell \\nCore, latest version of PowerShell,   it's not gonna include a PowerShell Core ISE. \\nIt's only the one with Windows that has that.   Why is that? I don't know. So some final \\nthoughts, should you actually install   this latest version of PowerShell they keep \\ntelling you to? I mean, yeah, you may as well, there's not really a reason not to. There are \\nplenty of additional features and like I said,   it's under active development, so there will \\ncontinue to be new features. For example,   some of the ones listed on the Microsoft \\narticle about this. It's cross platform,   we already talked about that. \\nIt has improved performance, there's new Cmdlets which are basically \\njust like little bit more advanced commands,   I talked about that in the other video. And \\nthere's new features with the language itself, so   new ways to do different comparisons or \\nwhatever. But there are also plenty of   other differences, including ones \\nthat may make it not compatible if you were to try to run certain scripts in \\nolder versions of PowerShell. For example,   many commandlets and modules were removed. \\nAlso because this is cross platform,   there are some scripts that you might \\nrun on Windows that might not work   on another computer. Obviously, if \\nit was like MacOS or Linux. There's   also a whole bunch of other little technical \\ndifferences that I'm not qualified to explain, so I'll put that link in the \\ndescription if you want to see   the exact article that talks about literally all \\nthe differences, if you are familiar with that   stuff. But hopefully this video still informed \\nyou, maybe you didn't even know about this new   version of PowerShell but now you do, and \\nyou decide, \\\"Hey, I wanna get that too.\\\" If you enjoyed the video, be sure to \\nsmash the like button so hard that   you literally put your hand through the \\nmonitor. And if you wanna keep watching   the next video I'd recommend is that \\none that I mentioned at the beginning,   talking about the differences between \\nregular Command, Prompt and PowerShell. I went into quite a bit more differences in \\ngeneral, not just PowerShell Core, so you can   click on that right there. So thanks so much for\"\n",
      "}\n",
      "\u001b[32;1m\u001b[1;3m[llm/start]\u001b[0m \u001b[1m[1:chain:RefineDocumentsChain > 2:chain:LLMChain > 3:llm:Replicate] Entering LLM run with input:\n",
      "\u001b[0m{\n",
      "  \"prompts\": [\n",
      "    \"Write a concise summary of the following:\\n\\n\\n\\\"In a previous video, I discussed the \\ndifference between the Command Prompt   and PowerShell in Windows. And if \\nyou've ever gone to use PowerShell,   you may have noticed that there's a little \\nmessage that it shows every time at the top   when you run it that says, \\\"Install the latest \\nPowerShell for new features and improvements.\\\" Now that new version they're talking about \\nis PowerShell Core, it's sometimes called,   also PowerShell 7 is the latest diversion number \\nfor it. And the names are kind of confusing,   so that's one thing I'm gonna explain. \\nNow, one thing you might be wondering   is if they're pushing so hard for you to \\ninstall this latest version, why don't   they just update your version of PowerShell \\nautomatically and give you the latest version? That's another thing I'll explain. Now before \\ngetting into everything, quickly I wanna mention   that I'm not gonna get into the super nitty gritty \\ndetails about all the differences between the two   versions. I'm mostly gonna stick to more higher \\nlevel, major differences, and if you want to look   up all the little details, I'll post a link for \\nthat in the description and mention it later. Alright so now let's get into the seemingly \\ndifferent versions of PowerShell. So you may   have heard several terms, you may have heard \\nWindows PowerShell or also PowerShell Core,   I already mentioned that myself. Also just \\nPowerShell. And the important thing to understand   is all of these do refer to the same \\npiece of software, it's all PowerShell,   just different versions of it, \\ndifferent stages of development. And there is a reason for them having different \\nnames, which I'll go over. So like I touched on,   PowerShell is the general term for the software. \\nSo it's sort of like saying iOS or Android,   you might be talking about a \\nspecific version like iOS 16 or   Android 10, but you can also just \\nbe referring to the whole thing. And at the moment there are seven different \\nmajor versions of PowerShell. The latest being   PowerShell 7. Now as you know, Windows \\nincludes PowerShell when you install it,   it's pre-installed and what you \\nmight not have noticed, though,   you can tell me, is if you go to run \\nPowerShell, it says Windows PowerShell. It doesn't just say PowerShell, and you might \\nthink what's the difference? Is there? Well, yes,   there is a difference and it is significant. \\nYou see PowerShell is not just included with   Windows. It is its own piece of software. If \\nyou went to the GitHub page where Microsoft   posts the source code for the new PowerShell, \\nyou can go and download it and install it onto your computer. But if you do go \\nto install it, it will just show up as   PowerShell, not Windows PowerShell. Windows \\nPowerShell specifically refers to the   install that came with Windows. \\nIt's considered a component   of your Windows installation. Now Windows \\nPowerShell is the same software as PowerShell. It's just an older version, it's a more \\nstable version that Microsoft decided,   \\\"Okay with Windows 10, for example, we're going \\nto include this version of PowerShell,\\\" in this   case version 5.1 is what's included \\nwith Windows 10 and Windows 11. So   if you're running Windows PowerShell, it is just \\nPowerShell 5.1, and that's included with Windows, so they call it Windows PowerShell. But \\nthe important thing to know is it's not   gonna be the very latest version \\nof PowerShell unless in the future,   there's a brand new version of Windows \\nand they decide to include the latest   major version of PowerShell, but at the \\nmoment that's not the case. But why is this? Why keep this separate older version of PowerShell \\nin Windows that you never add features to, and   still promote this newer version of PowerShell? \\nWhy even keep this difference up? Well,   imagine you're a very big company and \\nyou're running some old version of Windows,   like XP, God forbid, and you \\ndecide, \\\"Alright you know what? We're finally gonna bite the bullet and just \\nupgrade all our systems to Windows 11. We're gonna   rewrite our entire infrastructure around Windows \\nand that's going to include a lot of PowerShell   scripts. So when we deploy new computers, it's \\ngonna use a PowerShell script to install all   the software. And we're also gonna teach all \\nof our IT admins the different commands and configurations we want to use, and we're gonna \\nuse PowerShell to do that.\\\" And in such a real   scenario, it's likely that the company does \\nnot exactly care about having all the latest   nice features. They are going to absolutely \\nprioritize the stuff just continuing to work.   If you're putting all these resources \\ninto creating scripts and teaching   your IT how to use PowerShell on \\nthis particular version and then Microsoft goes and creates multiple updates for \\nPowerShell that's all these new major versions   that change things and may break things. \\nWell then that's not very appealing if   every few years you're gonna have to rewrite all \\nyour scripts, and you don't really have a choice   in it. So instead when Microsoft goes to release a \\nmajor version of Windows, like Windows 11, they'll   say, \\\"Okay you know what, we're gonna release \\nPowerShell 5.1 along with Windows and build it in. And then we're also going to support \\nthat specific version of PowerShell,   as long as we support Windows 11, cause we're \\ngonna include it as a component.\\\" And of course,   Microsoft is going to continue to develop \\nPowerShell and add features for the future.   And they'll release that as its own separate \\nsoftware, for people who do happen to want to   have the latest version with the latest features, \\nthey can choose to go and install that themselves. And again, it will be alongside Windows \\nPowerShell, which will stay the same. But   the important thing is even though they're not \\ngonna be adding new features or upgrading anything   major, well, they're still going to support it in \\nterms of creating bug fixes and security updates.   So that way companies that invest a bunch of \\nresources into creating an infrastructure around this version of PowerShell, they know that \\nthey can keep doing that because Microsoft   will keep supporting it. And they don't have \\nto use the newer version that might not work   with what they make. Alright so now we \\ncan get into what the heck PowerShell   Core is. So the first thing \\nyou need to understand is that all the way up to PowerShell version five, it \\nwas written on a software framework called the   .NET framework. And just think of this, like \\nthe underlying architecture of the software,   not gonna get into too many more details \\nthan that. But starting with PowerShell 6,   Microsoft rewrote PowerShell in a new \\nframework or architecture, which was .NET Core. And it's actually technically a \\nsubset of the .NET framework, but not gonna   get into that, it's a new architecture, just \\nthink of it that way. And there were several   improvements. One very notable one is that where \\nPowerShell before could only run on Windows,   now PowerShell 6 and forward, aKA PowerShell \\nCore because they run on .NET Core, those are actually able to run and be installed \\non not just Windows, but also Linux and MacOS   as well. So now PowerShell is completely \\ncross platform and also Microsoft decided to   make PowerShell Core open source. So you can \\ngo and look at the source code on GitHub if   you wanted to. Now, when Microsoft went \\nto release PowerShell 6, they decided \\\"Alright behind the scenes, there are \\nenough major differences with this   and also enough compatibility differences, some \\nthings don't exactly work as they used to with   PowerShell 5. We'd better add something to the \\nname to signify it's a little bit different.   So they decided to call it PowerShell Core 6 \\nbecause it's written on the .NET Core framework. So basically just to let people know \\nthat this is more than a typical   version update. However, all that being said, when \\nthey released PowerShell 7, they decided to just   drop the Core naming scheme and just call it \\nPowerShell again. Or if you want to include   the version name, just PowerShell 7. And a big \\npart of that is when they went from 6 to 7,   they improved a lot of the compatibility issues. So it was a lot easier to get \\nstuff that you were doing on 5   to work with 7. Though, there are some \\ndifferences. So I guess they figured,   \\\"Alright, it's close enough we'll just call \\nPowerShell again.\\\" And just to be totally clear,   it's not like version 6 and 7 had a non-core \\nversion. When they went from version 5 to 6,   they completely changed PowerShell \\nto be on the .NET Core framework, it's not like they had two \\nparallel versions. So in summary,   PowerShell Core is just an alternative name \\nyou can use to refer to versions of PowerShell   that are written on the .NET Core framework, which \\nare at the moment 6 and 7 and also anything going   forward. Now another thing I want to talk \\nabout, because you may have also seen this if you've ever gone to type in PowerShell into \\nthe start menu, you may have seen a result   for something called Windows PowerShell \\nISE come up. And if you open it up,   you can see it as a bunch of these commands on \\nthe right hand side and on the left, that's like   this window where you can type in a bunch of text \\nand below it, it looks like a regular PowerShell window. What is all this about? Well like you \\nmight know, and how I discussed in my other video,   PowerShell is not just the name of the command \\nprompt-like program, it's actually also the   name of an entire scripting language. So \\nyou could write a program in PowerShell.   So just like you might write a program in \\nPython or some other programming language,   you can write it in PowerShell. And then it runs in the PowerShell program, but it's also \\nwritten in the PowerShell language. Anyway,   because you might be writing scripts \\nthat are many, many lines long, not just   typing in individual commands. They created the \\nPowerShell ISE integrated scripting environment,   which basically just gives you a larger space \\nwhere you can type in and create whole script   and also run it as a whole, instead \\nof having to do something silly like putting each individual line of the script   into PowerShell to test it out and \\nrunning it individually. You could   just literally run the whole thing at once, \\nalso debug the script, it's very similar to   an IDE, integrated development environment for \\nother programs. Though one thing to mention is   the PowerShell ISE is only included with the \\nWindows PowerShell, so installed with Windows. If you go to download PowerShell \\nCore, latest version of PowerShell,   it's not gonna include a PowerShell Core ISE. \\nIt's only the one with Windows that has that.   Why is that? I don't know. So some final \\nthoughts, should you actually install   this latest version of PowerShell they keep \\ntelling you to? I mean, yeah, you may as well, there's not really a reason not to. There are \\nplenty of additional features and like I said,   it's under active development, so there will \\ncontinue to be new features. For example,   some of the ones listed on the Microsoft \\narticle about this. It's cross platform,   we already talked about that. \\nIt has improved performance, there's new Cmdlets which are basically \\njust like little bit more advanced commands,   I talked about that in the other video. And \\nthere's new features with the language itself, so   new ways to do different comparisons or \\nwhatever. But there are also plenty of   other differences, including ones \\nthat may make it not compatible if you were to try to run certain scripts in \\nolder versions of PowerShell. For example,   many commandlets and modules were removed. \\nAlso because this is cross platform,   there are some scripts that you might \\nrun on Windows that might not work   on another computer. Obviously, if \\nit was like MacOS or Linux. There's   also a whole bunch of other little technical \\ndifferences that I'm not qualified to explain, so I'll put that link in the \\ndescription if you want to see   the exact article that talks about literally all \\nthe differences, if you are familiar with that   stuff. But hopefully this video still informed \\nyou, maybe you didn't even know about this new   version of PowerShell but now you do, and \\nyou decide, \\\"Hey, I wanna get that too.\\\" If you enjoyed the video, be sure to \\nsmash the like button so hard that   you literally put your hand through the \\nmonitor. And if you wanna keep watching   the next video I'd recommend is that \\none that I mentioned at the beginning,   talking about the differences between \\nregular Command, Prompt and PowerShell. I went into quite a bit more differences in \\ngeneral, not just PowerShell Core, so you can   click on that right there. So thanks so much for\\\"\\n\\n\\nCONCISE SUMMARY:\"\n",
      "  ]\n",
      "}\n",
      "\u001b[36;1m\u001b[1;3m[llm/end]\u001b[0m \u001b[1m[1:chain:RefineDocumentsChain > 2:chain:LLMChain > 3:llm:Replicate] [7.34s] Exiting LLM run with output:\n",
      "\u001b[0m{\n",
      "  \"generations\": [\n",
      "    [\n",
      "      {\n",
      "        \"text\": \" Sure! Here is a concise summary of the video:\\n\\nMicrosoft has been pushing an update to the latest version of PowerShell, which is called PowerShell Core. This is due to the fact that it has undergone significant changes from previous versions, including being written on a different software framework and becoming cross-platform. The main difference between PowerShell and PowerShell Core is that the latter is written on the .NET Core framework, making it cross-platform and open-source. Additionally, PowerShell Core includes improved performance, new features, and language improvements. However, some scripts may not work on older versions of PowerShell or other operating systems. Overall, installing the latest version of PowerShell is recommended, especially for companies looking to invest resources into creating infrastructure around this software.\",\n",
      "        \"generation_info\": null,\n",
      "        \"type\": \"Generation\"\n",
      "      }\n",
      "    ]\n",
      "  ],\n",
      "  \"llm_output\": null,\n",
      "  \"run\": null\n",
      "}\n",
      "\u001b[36;1m\u001b[1;3m[chain/end]\u001b[0m \u001b[1m[1:chain:RefineDocumentsChain > 2:chain:LLMChain] [7.34s] Exiting Chain run with output:\n",
      "\u001b[0m{\n",
      "  \"text\": \" Sure! Here is a concise summary of the video:\\n\\nMicrosoft has been pushing an update to the latest version of PowerShell, which is called PowerShell Core. This is due to the fact that it has undergone significant changes from previous versions, including being written on a different software framework and becoming cross-platform. The main difference between PowerShell and PowerShell Core is that the latter is written on the .NET Core framework, making it cross-platform and open-source. Additionally, PowerShell Core includes improved performance, new features, and language improvements. However, some scripts may not work on older versions of PowerShell or other operating systems. Overall, installing the latest version of PowerShell is recommended, especially for companies looking to invest resources into creating infrastructure around this software.\"\n",
      "}\n",
      "\u001b[32;1m\u001b[1;3m[chain/start]\u001b[0m \u001b[1m[1:chain:RefineDocumentsChain > 4:chain:LLMChain] Entering Chain run with input:\n",
      "\u001b[0m{\n",
      "  \"text\": \"watching guys, and I'll see you in the next video.\",\n",
      "  \"existing_answer\": \" Sure! Here is a concise summary of the video:\\n\\nMicrosoft has been pushing an update to the latest version of PowerShell, which is called PowerShell Core. This is due to the fact that it has undergone significant changes from previous versions, including being written on a different software framework and becoming cross-platform. The main difference between PowerShell and PowerShell Core is that the latter is written on the .NET Core framework, making it cross-platform and open-source. Additionally, PowerShell Core includes improved performance, new features, and language improvements. However, some scripts may not work on older versions of PowerShell or other operating systems. Overall, installing the latest version of PowerShell is recommended, especially for companies looking to invest resources into creating infrastructure around this software.\"\n",
      "}\n",
      "\u001b[32;1m\u001b[1;3m[llm/start]\u001b[0m \u001b[1m[1:chain:RefineDocumentsChain > 4:chain:LLMChain > 5:llm:Replicate] Entering LLM run with input:\n",
      "\u001b[0m{\n",
      "  \"prompts\": [\n",
      "    \"Your job is to produce a final summary.\\nWe have provided an existing summary up to a certain point:  Sure! Here is a concise summary of the video:\\n\\nMicrosoft has been pushing an update to the latest version of PowerShell, which is called PowerShell Core. This is due to the fact that it has undergone significant changes from previous versions, including being written on a different software framework and becoming cross-platform. The main difference between PowerShell and PowerShell Core is that the latter is written on the .NET Core framework, making it cross-platform and open-source. Additionally, PowerShell Core includes improved performance, new features, and language improvements. However, some scripts may not work on older versions of PowerShell or other operating systems. Overall, installing the latest version of PowerShell is recommended, especially for companies looking to invest resources into creating infrastructure around this software.\\nWe have the opportunity to refine the existing summary (only if needed) with some more context below.\\n------------\\nwatching guys, and I'll see you in the next video.\\n------------\\nGiven the new context, refine the original summary.\\nIf the context isn't useful, return the original summary.\"\n",
      "  ]\n",
      "}\n",
      "\u001b[36;1m\u001b[1;3m[llm/end]\u001b[0m \u001b[1m[1:chain:RefineDocumentsChain > 4:chain:LLMChain > 5:llm:Replicate] [6.67s] Exiting LLM run with output:\n",
      "\u001b[0m{\n",
      "  \"generations\": [\n",
      "    [\n",
      "      {\n",
      "        \"text\": \" Sure, I'd be happy to help! Based on the additional context provided, here's a revised summary of the video:\\n\\nMicrosoft has released an updated version of PowerShell, now called PowerShell Core, which offers significant improvements over previous versions. With its new .NET Core framework, PowerShell Core is cross-platform and open-source, providing better performance, new features, and language enhancements. While some scripts may not be compatible with older versions of PowerShell or other operating systems, upgrading to the latest version is highly recommended for companies looking to invest in PowerShell infrastructure.\\n\\nIn comparison to the original summary, this revised version provides more context about the changes in PowerShell and why upgrading is important for companies. It also highlights the benefits of the new .NET Core framework and the fact that PowerShell Core is now cross-platform and open-source.\",\n",
      "        \"generation_info\": null,\n",
      "        \"type\": \"Generation\"\n",
      "      }\n",
      "    ]\n",
      "  ],\n",
      "  \"llm_output\": null,\n",
      "  \"run\": null\n",
      "}\n",
      "\u001b[36;1m\u001b[1;3m[chain/end]\u001b[0m \u001b[1m[1:chain:RefineDocumentsChain > 4:chain:LLMChain] [6.67s] Exiting Chain run with output:\n",
      "\u001b[0m{\n",
      "  \"text\": \" Sure, I'd be happy to help! Based on the additional context provided, here's a revised summary of the video:\\n\\nMicrosoft has released an updated version of PowerShell, now called PowerShell Core, which offers significant improvements over previous versions. With its new .NET Core framework, PowerShell Core is cross-platform and open-source, providing better performance, new features, and language enhancements. While some scripts may not be compatible with older versions of PowerShell or other operating systems, upgrading to the latest version is highly recommended for companies looking to invest in PowerShell infrastructure.\\n\\nIn comparison to the original summary, this revised version provides more context about the changes in PowerShell and why upgrading is important for companies. It also highlights the benefits of the new .NET Core framework and the fact that PowerShell Core is now cross-platform and open-source.\"\n",
      "}\n",
      "\u001b[36;1m\u001b[1;3m[chain/end]\u001b[0m \u001b[1m[1:chain:RefineDocumentsChain] [14.01s] Exiting Chain run with output:\n",
      "\u001b[0m{\n",
      "  \"output_text\": \" Sure, I'd be happy to help! Based on the additional context provided, here's a revised summary of the video:\\n\\nMicrosoft has released an updated version of PowerShell, now called PowerShell Core, which offers significant improvements over previous versions. With its new .NET Core framework, PowerShell Core is cross-platform and open-source, providing better performance, new features, and language enhancements. While some scripts may not be compatible with older versions of PowerShell or other operating systems, upgrading to the latest version is highly recommended for companies looking to invest in PowerShell infrastructure.\\n\\nIn comparison to the original summary, this revised version provides more context about the changes in PowerShell and why upgrading is important for companies. It also highlights the benefits of the new .NET Core framework and the fact that PowerShell Core is now cross-platform and open-source.\"\n",
      "}\n"
     ]
    },
    {
     "data": {
      "text/plain": [
       "\" Sure, I'd be happy to help! Based on the additional context provided, here's a revised summary of the video:\\n\\nMicrosoft has released an updated version of PowerShell, now called PowerShell Core, which offers significant improvements over previous versions. With its new .NET Core framework, PowerShell Core is cross-platform and open-source, providing better performance, new features, and language enhancements. While some scripts may not be compatible with older versions of PowerShell or other operating systems, upgrading to the latest version is highly recommended for companies looking to invest in PowerShell infrastructure.\\n\\nIn comparison to the original summary, this revised version provides more context about the changes in PowerShell and why upgrading is important for companies. It also highlights the benefits of the new .NET Core framework and the fact that PowerShell Core is now cross-platform and open-source.\""
      ]
     },
     "execution_count": 17,
     "metadata": {},
     "output_type": "execute_result"
    }
   ],
   "source": [
    "# but refine works\n",
    "chain = load_summarize_chain(llm, chain_type=\"refine\")\n",
    "chain.run(split_docs)"
   ]
  },
  {
   "cell_type": "markdown",
   "id": "61ccd0fb-5cdb-43c4-afaf-05bc9f7cf959",
   "metadata": {},
   "source": [
    "\n",
    "As you can see, `stuff` fails because it tries to treat all the split documents as one and \"stuffs\" it into one prompt which leads to a much larger prompt than Llama 2 can handle while `refine` iteratively runs over the documents updating its answer as it goes."
   ]
  },
  {
   "cell_type": "code",
   "execution_count": null,
   "id": "95d81821-82ba-46f5-9199-85218969ee6c",
   "metadata": {},
   "outputs": [],
   "source": []
  }
 ],
 "metadata": {
  "kernelspec": {
   "display_name": "Python 3 (ipykernel)",
   "language": "python",
   "name": "python3"
  },
  "language_info": {
   "codemirror_mode": {
    "name": "ipython",
    "version": 3
   },
   "file_extension": ".py",
   "mimetype": "text/x-python",
   "name": "python",
   "nbconvert_exporter": "python",
   "pygments_lexer": "ipython3",
   "version": "3.11.4"
  }
 },
 "nbformat": 4,
 "nbformat_minor": 5
}
